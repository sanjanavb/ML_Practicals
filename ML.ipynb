{
  "nbformat": 4,
  "nbformat_minor": 0,
  "metadata": {
    "colab": {
      "provenance": [],
      "authorship_tag": "ABX9TyP5ApGOUyXJpUvB0z4nJZq8",
      "include_colab_link": true
    },
    "kernelspec": {
      "name": "python3",
      "display_name": "Python 3"
    },
    "language_info": {
      "name": "python"
    }
  },
  "cells": [
    {
      "cell_type": "markdown",
      "metadata": {
        "id": "view-in-github",
        "colab_type": "text"
      },
      "source": [
        "<a href=\"https://colab.research.google.com/github/SejalLambat19/Machine-Learning/blob/main/ML.ipynb\" target=\"_parent\"><img src=\"https://colab.research.google.com/assets/colab-badge.svg\" alt=\"Open In Colab\"/></a>"
      ]
    },
    {
      "cell_type": "code",
      "execution_count": null,
      "metadata": {
        "id": "l0IfUk3KgKsI"
      },
      "outputs": [],
      "source": [
        "tup = (45,29,17,\"red\")\n",
        "print(type(tup),tup)\n",
        "tup1 = (1)            #sol tup1 = (1,)\n",
        "# tup[0]=45\n",
        "print(tup[0])\n",
        "\n",
        "if 17 in tup:\n",
        "  print(\"Yes 17 present\")\n",
        "tup2 = tup[1:3]\n",
        "print(tup2)"
      ]
    },
    {
      "cell_type": "code",
      "source": [
        "#19 break and continue\n",
        "for i in range(1,12):\n",
        "    print(\"5 X \",i,\" = \",5*i)\n",
        "    if(i==10):\n",
        "        break\n",
        "print(\"Loop Exited\")\n",
        "for i in range(1,5):\n",
        "    if(i==3):\n",
        "        continue\n",
        "    print(\"4 X \",i,\" = \",4*i)"
      ],
      "metadata": {
        "id": "wZl6PRq9hUEj",
        "outputId": "6bafcce5-e933-4ab2-819c-b63c9f1fbc98",
        "colab": {
          "base_uri": "https://localhost:8080/"
        }
      },
      "execution_count": 1,
      "outputs": [
        {
          "output_type": "stream",
          "name": "stdout",
          "text": [
            "5 X  1  =  5\n",
            "5 X  2  =  10\n",
            "5 X  3  =  15\n",
            "5 X  4  =  20\n",
            "5 X  5  =  25\n",
            "5 X  6  =  30\n",
            "5 X  7  =  35\n",
            "5 X  8  =  40\n",
            "5 X  9  =  45\n",
            "5 X  10  =  50\n",
            "Loop Exited\n",
            "4 X  1  =  4\n",
            "4 X  2  =  8\n",
            "4 X  4  =  16\n"
          ]
        }
      ]
    }
  ]
}
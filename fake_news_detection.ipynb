{
  "nbformat": 4,
  "nbformat_minor": 0,
  "metadata": {
    "colab": {
      "provenance": [],
      "authorship_tag": "ABX9TyOzBD/px4WUfL+AFcuT6oRL",
      "include_colab_link": true
    },
    "kernelspec": {
      "name": "python3",
      "display_name": "Python 3"
    },
    "language_info": {
      "name": "python"
    }
  },
  "cells": [
    {
      "cell_type": "markdown",
      "metadata": {
        "id": "view-in-github",
        "colab_type": "text"
      },
      "source": [
        "<a href=\"https://colab.research.google.com/github/SejalLambat19/Machine-Learning/blob/main/fake_news_detection.ipynb\" target=\"_parent\"><img src=\"https://colab.research.google.com/assets/colab-badge.svg\" alt=\"Open In Colab\"/></a>"
      ]
    },
    {
      "cell_type": "code",
      "execution_count": 1,
      "metadata": {
        "colab": {
          "base_uri": "https://localhost:8080/"
        },
        "id": "oqROKsiTUtnD",
        "outputId": "9f014c23-252b-4f91-eca5-8baee1d01081"
      },
      "outputs": [
        {
          "output_type": "stream",
          "name": "stdout",
          "text": [
            "Accuracy: 0.00\n",
            "Confusion Matrix:\n",
            " [[0 1]\n",
            " [0 0]]\n",
            "Real News\n"
          ]
        }
      ],
      "source": [
        "import pandas as pd\n",
        "import numpy as np\n",
        "import re\n",
        "import string\n",
        "from sklearn.model_selection import train_test_split\n",
        "from sklearn.feature_extraction.text import TfidfVectorizer\n",
        "from sklearn.linear_model import PassiveAggressiveClassifier\n",
        "from sklearn.metrics import accuracy_score, confusion_matrix\n",
        "\n",
        "# Sample dataset\n",
        "data = {\n",
        "    \"text\": [\n",
        "        \"The economy is doing great, says the government.\",\n",
        "        \"Aliens have landed on Earth, confirms scientist.\",\n",
        "        \"New study shows coffee improves brain function.\",\n",
        "        \"Breaking: The president resigns amid controversy.\"\n",
        "    ],\n",
        "    \"label\": [\"REAL\", \"FAKE\", \"REAL\", \"FAKE\"]\n",
        "}\n",
        "\n",
        "df = pd.DataFrame(data)\n",
        "\n",
        "# Data preprocessing\n",
        "def preprocess_text(text):\n",
        "    text = text.lower()\n",
        "    text = re.sub(f\"[{string.punctuation}]\", \"\", text)\n",
        "    return text\n",
        "\n",
        "df['text'] = df['text'].apply(preprocess_text)\n",
        "\n",
        "# Splitting data\n",
        "X_train, X_test, y_train, y_test = train_test_split(df['text'], df['label'], test_size=0.2, random_state=42)\n",
        "\n",
        "# Feature extraction\n",
        "vectorizer = TfidfVectorizer(stop_words='english', max_df=0.7)\n",
        "X_train_tfidf = vectorizer.fit_transform(X_train)\n",
        "X_test_tfidf = vectorizer.transform(X_test)\n",
        "\n",
        "# Model training\n",
        "model = PassiveAggressiveClassifier(max_iter=50)\n",
        "model.fit(X_train_tfidf, y_train)\n",
        "\n",
        "# Predictions\n",
        "y_pred = model.predict(X_test_tfidf)\n",
        "\n",
        "# Evaluation\n",
        "accuracy = accuracy_score(y_test, y_pred)\n",
        "conf_matrix = confusion_matrix(y_test, y_pred)\n",
        "print(f'Accuracy: {accuracy:.2f}')\n",
        "print('Confusion Matrix:\\n', conf_matrix)\n",
        "\n",
        "# Function to predict new news articles\n",
        "def predict_news(text):\n",
        "    processed_text = preprocess_text(text)\n",
        "    transformed_text = vectorizer.transform([processed_text])\n",
        "    prediction = model.predict(transformed_text)\n",
        "    return \"Fake News\" if prediction[0] == 'FAKE' else \"Real News\"\n",
        "\n",
        "# Example usage\n",
        "news_article = \"Scientists discover a new planet in the solar system.\"\n",
        "print(predict_news(news_article))\n"
      ]
    }
  ]
}